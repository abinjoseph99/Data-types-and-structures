{
  "nbformat": 4,
  "nbformat_minor": 0,
  "metadata": {
    "colab": {
      "provenance": []
    },
    "kernelspec": {
      "name": "python3",
      "display_name": "Python 3"
    },
    "language_info": {
      "name": "python"
    }
  },
  "cells": [
    {
      "cell_type": "code",
      "source": [],
      "metadata": {
        "id": "JSj30-EnAl2l"
      },
      "execution_count": null,
      "outputs": []
    },
    {
      "cell_type": "markdown",
      "source": [
        "#Data types and structures Questions\n",
        " 1  What are data structures, and why are they important?\n",
        "\n",
        "   - A data structure is a specific way of organizing and storing data on a computer, allowing for efficient access and manipulation of information, making it a crucial component in programming as it enables fast retrieval and processing of data based on the problem at hand;\n",
        "\n",
        "2 Explain the difference between mutable and immutable data types with examples?\n",
        " - Mutable Data Types\n",
        "Definition: Mutable data types are those whose values can be changed after they are created. This means that you can modify the contents of a mutable object without creating a new object in memory.\n",
        "Examples:\n",
        "\n",
        " Lists: Lists are ordered collections of items that can be changed. You can add, remove, or modify elements in a list\n",
        "\n",
        " Sets: Sets are unordered collections of unique items that can be changed. You can add or remove elements from a set.\n",
        "\n",
        "  Immutable Data Types\n",
        "Definition: Immutable data types are those whose values cannot be changed after they are created. This means that any operation that appears to modify an immutable object actually creates a new object in memory with the modified value.\n",
        "Examples:\n",
        "\n",
        " Numbers: Integers, floating-point numbers, and complex numbers are immutable.\n",
        "\n",
        " Strings: Strings are sequences of characters that are immutable. You cannot change individual characters in a string\n",
        "\n",
        " Tuples: Tuples are ordered collections of items that are immutable. Once a tuple is created, you cannot change its elements\n",
        "\n",
        "3  What are the main differences between lists and tuples in Python?\n",
        "\n",
        "- 1 mutability\n",
        "\n",
        "Lists: Mutable, meaning you can modify them after creation. You can add, remove, or change elements within a list.\n",
        "Tuples: Immutable, meaning their contents cannot be altered once created. Any operation that seems to modify a tuple actually creates a new tuple with the changes.\n",
        "2. Syntax:\n",
        "\n",
        "Lists: Defined using square brackets ``.\n",
        "Tuples: Defined using parentheses ().\n",
        "3. Performance:\n",
        "\n",
        "Lists: Due to their mutability, lists have a slight performance overhead. Operations like appending or inserting elements can be slower as the list might need to resize.\n",
        "Tuples: Being immutable, tuples are generally faster for operations like accessing elements or iterating through them.\n",
        "4. Memory Usage:\n",
        "\n",
        "Lists: Lists tend to consume slightly more memory due to their dynamic nature and potential for resizing.\n",
        "Tuples: Tuples are more memory-efficient as their size is fixed, requiring less memory allocation.\n",
        "5. Use Cases:\n",
        "\n",
        "Lists: Used when you need a collection of items that might change over time, such as a shopping list, a list of tasks, or a collection of data that needs to be updated.\n",
        "Tuples: Used for fixed collections of items that shouldn't be modified, such as coordinates (x, y), representing a record with different fields, or when you want to ensure data integrity.\n",
        "6. Hashability:\n",
        "\n",
        "4 Describe how dictionaries store data ?\n",
        "\n",
        " - 1  Key-Value Pairs:\n",
        "\n",
        " Keys: Keys are like labels or identifiers for the data. They must be unique and immutable (e.g., strings, numbers, or tuples). Think of them as the index in a traditional array, but instead of numbers, you can use more descriptive labels.\n",
        " Values: Values are the actual data being stored. They can be any Python object, including other dictionaries, lists, or even functions.\n",
        "2. Hash Tables:\n",
        "\n",
        " Dictionaries are typically implemented using a data structure called a hash table. This allows for very efficient lookups, insertions, and deletions of data.\n",
        " A hash function is used to convert each key into a unique index in the hash table. This index determines where the key-value pair will be stored.\n",
        "3. Unordered:\n",
        "\n",
        " Unlike lists or tuples, dictionaries are unordered. This means that the order in which you add items to a dictionary is not guaranteed to be preserved. You should not rely on the order of items when working with dictionaries.\n",
        "4. Mutability:\n",
        "\n",
        " Dictionaries are mutable, meaning you can change their contents after they are created. You can add, remove, or update key-value pairs\n",
        "\n",
        "5 Why might you use a set instead of a list in Python?\n",
        "\n",
        " - Sets:  The most fundamental difference is that sets cannot contain duplicate elements. If you try to add an element that's already in the set, it simply won't be added. This is incredibly useful when you need to work with collections of distinct items, like:\n",
        "\n",
        " User IDs\n",
        " Unique words in a document\n",
        " Items in an inventory\n",
        "\n",
        " Lists: Lists, on the other hand, allow duplicates. If you need to keep track of how many times an item appears, or if the order of elements is crucial even if they are repeated, lists are the better choice.\n",
        "\n",
        "6 What is a string in Python, and how is it different from a list ?\n",
        "\n",
        "  - In Python, a string is a sequence of characters.  It's one of the fundamental data types used to represent text.  Think of it as a series of letters, numbers, symbols, and spaces all strung together\n",
        "\n",
        "  How Strings Differ from Lists:\n",
        "\n",
        " While both strings and lists are sequences, they have some key differences:\n",
        "\n",
        " Data Type of Elements:\n",
        "\n",
        " Strings: Contain only characters.\n",
        " Lists: Can contain elements of any data type (integers, floats, other lists, dictionaries, etc.).\n",
        " Mutability:\n",
        "\n",
        " Strings: Immutable. You cannot change the characters within a string after it's created.\n",
        " Lists: Mutable. You can add, remove, or change elements within a list.\n",
        "Operations:\n",
        "\n",
        " Strings: Support string-specific operations like concatenation (+), slicing, searching (find, replace), and formatting.\n",
        " Lists: Support list-specific operations like appending, inserting, removing elements, sorting, etc.\n",
        " Use Cases:\n",
        "\n",
        " Strings: Primarily used for representing and manipulating text.\n",
        " Lists: Used for storing collections of items where the items can be of different types and where you might need to modify the collection.\n",
        "\n",
        "7  How do tuples ensure data integrity in Python?\n",
        "\n",
        "  - Tuples in Python ensure data integrity primarily through their immutability. Here's how that works:\n",
        "\n",
        "1. Immutability:\n",
        "\n",
        " Once a tuple is created, its contents cannot be changed. You cannot add, remove, or modify individual elements within a tuple. This means that after you define a tuple with specific values, those values are locked in place.\n",
        "\n",
        " This immutability prevents accidental or unintended modifications to the data. If you have a set of values that should remain constant throughout your program's execution (e.g., coordinates, configuration settings, or records), using a tuple guarantees that these values will not be altered.\n",
        "\n",
        "2. Protection Against Errors:\n",
        "\n",
        " Immutability helps to prevent bugs and errors in your code. If you know that a particular variable should hold a fixed set of values, using a tuple ensures that no part of your code can accidentally change those values. This can be especially important in larger programs where different parts of the code might interact with the same data.\n",
        "3. Data Integrity in Multithreaded Environments:\n",
        "\n",
        " Immutability makes tuples inherently thread-safe. In multithreaded programs where multiple threads might access the same data, using immutable data structures like tuples prevents race conditions and data corruption. Since no thread can modify a tuple, there's no risk of one thread interfering with another thread's data.\n",
        "4. Use as Dictionary Keys:\n",
        "\n",
        " Tuples can be used as keys in dictionaries because they are immutable. Dictionaries require keys that are immutable so that the dictionary can maintain its internal structure and efficiently retrieve values.\n",
        "\n",
        "\n",
        "8 What is a hash table, and how does it relate to dictionaries in Python?\n",
        "\n",
        " - In Python, the Dictionary data types represent the implementation of hash tables. The Keys in the dictionary are hashable–they are generated by a hash function which generates a unique result for each unique value supplied to the hash function. Also, the order of data elements in a dictionary is not fixed.\n",
        "\n",
        "9 Can lists contain different data types in Python?\n",
        "\n",
        " - Yes, lists in Python can contain different data types. This is one of the features that makes Python lists so flexible and powerful.\n",
        "\n",
        " Flexibility: Python doesn't enforce a strict data type for lists. You can mix and match different types as needed.\n",
        "\n",
        " No Restrictions: There's no limit to the variety of data types you can include in a single list.\n",
        "\n",
        " Use Cases: This feature is useful in various situations, such as when you need to group related but different kinds of data together.\n",
        "\n",
        "10 Explain why strings are immutable in Python?\n",
        "\n",
        " - Memory Efficiency:\n",
        "\n",
        " Python can optimize memory allocation for immutable objects. Since strings cannot change, the interpreter can allocate memory more efficiently, knowing that the string's value will remain constant.\n",
        "\n",
        " Thread Safety:\n",
        "\n",
        " Immutability makes strings inherently thread-safe. In a multithreaded environment, multiple threads can access and use the same string without the risk of data corruption or unexpected changes.\n",
        "\n",
        " Use as Dictionary Keys:\n",
        "\n",
        " Immutable objects, like strings, can be used as keys in dictionaries. This is because their hash value remains constant, ensuring that the key-value mapping in the dictionary remains consistent\n",
        " .\n",
        " Simplifies Debugging:\n",
        "\n",
        " Immutability makes code easier to reason about and debug. You can be confident that a string's value will not change unexpectedly, making it simpler to track down the source of errors.\n",
        "\n",
        "11  What advantages do dictionaries offer over lists for certain tasks?\n",
        "\n",
        "  - Dictionaries have several advantages over lists for tasks that require frequent lookups or searches. Dictionaries are faster for finding a specific value, and they can store complex data structures.\n",
        "\n",
        "Speed\n",
        "Lookups\n",
        "\n",
        "Dictionaries are faster for finding a specific value because they use a hash table to store key-value pairs.\n",
        "\n",
        "Iteration\n",
        "Lists are faster for ordered operations like sorting, but dictionaries are faster for lookup operations.\n",
        "\n",
        "Data storage\n",
        "Memory efficiency: Dictionaries are memory efficient because they only store the key-value pairs that are needed.\n",
        "\n",
        "Complex data structures: Dictionaries can store complex data structures like graphs and databases.\n",
        "\n",
        "12  Describe a scenario where using a tuple would be preferable over a list?\n",
        "\n",
        " - A scenario where using a tuple would be preferable over a list is when you want to represent a fixed collection of related items that should not be changed.  Think of it like a record or a struct in other languages.  Here are a few specific examples:\n",
        "\n",
        " Representing Coordinates:  Imagine you're working with geographical coordinates (latitude and longitude). These two values are inherently linked and should not be modified individually. A tuple (latitude, longitude) would be a perfect fit.  You wouldn't want someone accidentally changing just the latitude without also updating the longitude, as that would create an invalid coordinate.\n",
        "\n",
        " Storing RGB Color Values:  An RGB color is represented by three values: red, green, and blue.  These values are always together and represent a single color. A tuple (red, green, blue) makes sense here.  Again, you wouldn't want to change just one of the color components without considering the others.\n",
        "\n",
        "13 How do sets handle duplicate values in Python?\n",
        "\n",
        "  - Sets in Python are designed to store only unique elements. This means that when you try to add a duplicate value to a set, the set will automatically discard it, ensuring that it only contains distinct values.\n",
        "\n",
        " Here's how it works:\n",
        "\n",
        " Uniqueness: The fundamental property of a set is that it cannot contain duplicate elements. Each element in a set must be unique.\n",
        "\n",
        " Adding Elements: When you add an element to a set using the add() method, Python checks if the element already exists in the set.\n",
        "\n",
        " Duplicate Detection: If the element is already present, Python recognizes it as a duplicate.\n",
        "\n",
        " Discarding Duplicates: Instead of adding the duplicate element, Python simply discards it. The set remains unchanged, and no error is raised.\n",
        "\n",
        "14 How does the “in” keyword work differently for lists and dictionaries?\n",
        "\n",
        " - The in keyword in Python works differently for lists and dictionaries primarily due to how these data structures are organized and how Python searches for elements within them.\n",
        "\n",
        " Lists:\n",
        "\n",
        " Sequential Search: When you use in with a list, Python performs a sequential search. It iterates through the list, element by element, comparing each element to the value you're searching for.\n",
        "\n",
        " Time Complexity: This means that in the worst-case scenario (where the element is at the end of the list or not present), the in operation takes O(n) time, where n is the number of elements in the list. The larger the list, the longer the search takes.\n",
        "\n",
        " Dictionaries:\n",
        "\n",
        " Hash-Based Lookup: Dictionaries, on the other hand, are implemented using hash tables. When you use in with a dictionary, Python checks if the specified key exists in the dictionary's hash table.\n",
        "\n",
        " Time Complexity: Hash tables provide very fast lookups, typically with an average time complexity of O(1). This means that the in operation for dictionaries is generally very quick, regardless of the size of the dictionary.\n",
        "\n",
        "15 Can you modify the elements of a tuple? Explain why or why not?\n",
        "\n",
        " - No, you cannot directly modify the elements of a tuple in Python.  Tuples are immutable data structures.  This means that once a tuple is created, its contents cannot be changed.  You cannot add, remove, or change individual elements within a tuple\n",
        "\n",
        " 16  What is a nested dictionary, and give an example of its use case?\n",
        "\n",
        "  - In Python, a nested dictionary is a dictionary that contains other dictionaries as its values. This allows 1  you to represent more complex and hierarchical data structures\n",
        "\n",
        "  Use Cases\n",
        "\n",
        "Nested dictionaries are useful in situations where you need to represent data with multiple levels of organization or relationships. Here are some common examples:\n",
        "\n",
        "Representing hierarchical data: Like the student example, where you have students, and within each student, you have courses and grades.\n",
        "Working with JSON data: JSON (JavaScript Object Notation) is a common format for exchanging data, and it naturally maps to nested dictionaries in Python.\n",
        "Creating complex data structures: When you need to organize data in a way that goes beyond simple key-value pairs.\n",
        "\n",
        "17 Describe the time complexity of accessing elements in a dictionary?\n",
        "\n",
        " - In Python, accessing elements in a dictionary by their key has an average time complexity of O(1), which is considered constant time. This means that, on average, the time it takes to retrieve a value from a dictionary does not depend on the number of elements in the dictionary.\n",
        "\n",
        "18 In what situations are lists preferred over dictionaries?\n",
        "\n",
        "  - Use Cases: If you need an ordered collection, like a sequence of user actions, lists are your go-to. On the other hand, when you need quick look-ups, like mapping usernames to user data, dictionaries are invaluable\n",
        "\n",
        "  Ordered Collections:\n",
        "\n",
        "When the order of elements matters: Lists maintain the order in which items are added. If you need to preserve this sequence (e.g., a list of events in chronological order, a queue of tasks), a list is the way to go.\n",
        "Accessing elements by position: Lists allow you to easily access elements using their index (e.g., my_list[0], my_list[2]). This is efficient for retrieving items based on their position in the sequence.\n",
        " Simple Data Storage:\n",
        "\n",
        "When you just need a collection of items: If you don't need to associate keys with values and simply want to store a group of items, a list is often simpler and more efficient.\n",
        "When you have a small, fixed set of data: For small collections of data where the lookup speed is not critical, lists can be sufficient.\n",
        "\n",
        " Mutability:\n",
        "\n",
        "When you need to modify the collection: Lists are mutable, meaning you can add, remove, or change elements after the list is created.\n",
        "\n",
        " If you need to frequently update the collection, lists are a good choice\n",
        "\n",
        "19 Why are dictionaries considered unordered, and how does that affect data retrieval?\n",
        "\n",
        " - Focus on Key-Based Access: Dictionaries are designed for extremely fast retrieval of values based on their keys. To achieve this speed, they use a technique called hashing (as we discussed earlier). Hashing allows Python to quickly calculate where to store and find a value, but this process doesn't inherently maintain any specific order.\n",
        "\n",
        "Implementation Details: In older versions of Python (before 3.7), dictionaries truly did not preserve the order in which items were added.\n",
        "\n",
        " The order you saw when you printed or iterated through a dictionary could even vary!\n",
        "\n",
        "20 Explain the difference between a list and a dictionary in terms of data retrieval.\n",
        "\n",
        " - Lists:\n",
        "\n",
        " Retrieval by Index: Lists are designed for accessing elements based on their position in the sequence. Each item has an index (starting from 0), and you use that index to get the value. Think of it like looking up a word in a book by its page number.\n",
        " Example: my_list[2] retrieves the third item.\n",
        "\n",
        " Sequential Access: Lists are efficient for iterating through all items in order. You can easily loop through a list and process each element one by one.\n",
        " Not Ideal for Fast Lookups: If you need to frequently find a specific item by its value (not its position), lists can be slow, especially for large collections. You might have to search through the list until you find the item you're looking for.\n",
        " Dictionaries:\n",
        "\n",
        " Retrieval by Key: Dictionaries are optimized for fast lookups based on a unique key. You associate each value with a key, and you use that key to retrieve the value directly. It's like looking up a word in a dictionary using the word itself.\n",
        " Example: my_dict[\"name\"] retrieves the value associated with the key \"name\".\n",
        "\n",
        " Key-Based Access: Dictionaries excel at quickly finding values when you know the corresponding key. This makes them ideal for situations where you need to look up information frequently.\n",
        " Not Designed for Order: While dictionaries in modern Python versions retain insertion order, their primary focus is not on sequential access or maintaining a specific order.\n"
      ],
      "metadata": {
        "id": "RCxPx4dlrZYr"
      }
    },
    {
      "cell_type": "code",
      "execution_count": 1,
      "metadata": {
        "id": "97Xk_vuorOjq",
        "colab": {
          "base_uri": "https://localhost:8080/"
        },
        "outputId": "0636a050-e814-441c-bd3f-0acc0a97a862"
      },
      "outputs": [
        {
          "output_type": "stream",
          "name": "stdout",
          "text": [
            "Abin Joseph\n"
          ]
        }
      ],
      "source": [
        "# Data types and structures pratical questions\n",
        "#1 Write a code to create a string with your name and print it ?\n",
        "\n",
        "my_name =\"Abin Joseph\"\n",
        "print (my_name)"
      ]
    },
    {
      "cell_type": "code",
      "source": [
        "#2 Write a code to find the length of the string \"Hello World\"\n",
        "len (\"hello world\")"
      ],
      "metadata": {
        "colab": {
          "base_uri": "https://localhost:8080/"
        },
        "id": "nrx4vTkwcFDR",
        "outputId": "33dacdf3-c2f5-40e6-c299-2263a634e7be"
      },
      "execution_count": 2,
      "outputs": [
        {
          "output_type": "execute_result",
          "data": {
            "text/plain": [
              "11"
            ]
          },
          "metadata": {},
          "execution_count": 2
        }
      ]
    },
    {
      "cell_type": "code",
      "source": [
        "#3 Write a code to slice the first 3 characters from the string \"Python Programming\"\n",
        "a =\"Python Programming\"\n",
        "string=a[0:3]\n",
        "print(string)"
      ],
      "metadata": {
        "colab": {
          "base_uri": "https://localhost:8080/"
        },
        "id": "M_M_1f1FcVXD",
        "outputId": "1a3f47e9-d2ad-4e1e-d951-ba4bef5a7c53"
      },
      "execution_count": 5,
      "outputs": [
        {
          "output_type": "stream",
          "name": "stdout",
          "text": [
            "Pyt\n"
          ]
        }
      ]
    },
    {
      "cell_type": "code",
      "source": [
        "#4Write a code to convert the string \"hello\" to uppercase\n",
        "text=\"hello\"\n",
        "text.upper()"
      ],
      "metadata": {
        "colab": {
          "base_uri": "https://localhost:8080/",
          "height": 36
        },
        "id": "5oD04xffds1h",
        "outputId": "d4bb157d-453a-462f-da02-8c6c489ad41b"
      },
      "execution_count": 6,
      "outputs": [
        {
          "output_type": "execute_result",
          "data": {
            "text/plain": [
              "'HELLO'"
            ],
            "application/vnd.google.colaboratory.intrinsic+json": {
              "type": "string"
            }
          },
          "metadata": {},
          "execution_count": 6
        }
      ]
    },
    {
      "cell_type": "code",
      "source": [
        "#5  Write a code to replace the word \"apple\" with \"orange\" in the string \"I like apple\"\n",
        "fruit= \"i like apple\"\n",
        "fruit1 =fruit.replace(\"apple\",\"orange\")\n",
        "print(fruit1)"
      ],
      "metadata": {
        "colab": {
          "base_uri": "https://localhost:8080/"
        },
        "id": "NTpASzO4eOV6",
        "outputId": "95c55937-9830-49a0-ba41-f34be25a5b8a"
      },
      "execution_count": 10,
      "outputs": [
        {
          "output_type": "stream",
          "name": "stdout",
          "text": [
            "i like orange\n"
          ]
        }
      ]
    },
    {
      "cell_type": "code",
      "source": [
        "#6 Write a code to create a list with numbers 1 to 5 and print it\n",
        "list={1,2,3,4,5}\n",
        "print(list)"
      ],
      "metadata": {
        "colab": {
          "base_uri": "https://localhost:8080/"
        },
        "id": "7pEGxG1Vf_VT",
        "outputId": "a4970f24-82f0-47b6-c6be-a6d298012eb7"
      },
      "execution_count": 13,
      "outputs": [
        {
          "output_type": "stream",
          "name": "stdout",
          "text": [
            "{1, 2, 3, 4, 5}\n"
          ]
        }
      ]
    },
    {
      "cell_type": "code",
      "source": [
        "#7Write a code to append the number 10 to the list [1, 2, 3, 4]\n",
        "list =[1,2,3,4]\n",
        "list.append(10)\n",
        "print(list)"
      ],
      "metadata": {
        "colab": {
          "base_uri": "https://localhost:8080/"
        },
        "id": "ee2TKKfpgmQE",
        "outputId": "f10738fe-7955-4b37-9c05-b91d832d6b21"
      },
      "execution_count": 14,
      "outputs": [
        {
          "output_type": "stream",
          "name": "stdout",
          "text": [
            "[1, 2, 3, 4, 10]\n"
          ]
        }
      ]
    },
    {
      "cell_type": "code",
      "source": [
        "#8 Write a code to remove the number 3 from the list [1, 2, 3, 4, 5]\n",
        "list=[1,2,3,4,5]\n",
        "list.remove(3)\n",
        "print(list)"
      ],
      "metadata": {
        "colab": {
          "base_uri": "https://localhost:8080/"
        },
        "id": "NP8vsuf-hlqZ",
        "outputId": "6eeeea82-b9cf-4efc-9839-d6dca1523b7f"
      },
      "execution_count": 15,
      "outputs": [
        {
          "output_type": "stream",
          "name": "stdout",
          "text": [
            "[1, 2, 4, 5]\n"
          ]
        }
      ]
    },
    {
      "cell_type": "code",
      "source": [
        "#9  Write a code to access the second element in the list ['a', 'b', 'c', 'd']\n",
        "my_list=['a','b','c','d']\n",
        "print(my_list[1])\n"
      ],
      "metadata": {
        "colab": {
          "base_uri": "https://localhost:8080/"
        },
        "id": "Nuy5MbZLiHjQ",
        "outputId": "9819034b-8760-4127-8522-5eb1975a01b5"
      },
      "execution_count": 20,
      "outputs": [
        {
          "output_type": "stream",
          "name": "stdout",
          "text": [
            "b\n"
          ]
        }
      ]
    },
    {
      "cell_type": "code",
      "source": [
        "#10  Write a code to reverse the list [10, 20, 30, 40, 50]\n",
        "my_list=[10,20,30,40,50]\n",
        "my_list[::-1]"
      ],
      "metadata": {
        "colab": {
          "base_uri": "https://localhost:8080/"
        },
        "id": "7AANVojEjtOi",
        "outputId": "bc2c90d3-8ae7-45b7-fdd3-1adea1021932"
      },
      "execution_count": 21,
      "outputs": [
        {
          "output_type": "execute_result",
          "data": {
            "text/plain": [
              "[50, 40, 30, 20, 10]"
            ]
          },
          "metadata": {},
          "execution_count": 21
        }
      ]
    },
    {
      "cell_type": "code",
      "source": [
        "# 11 Write a code to create a tuple with the elements 100, 200, 300 and print it\n",
        "my_tuple=(100,200,300)\n",
        "print(my_tuple)\n"
      ],
      "metadata": {
        "colab": {
          "base_uri": "https://localhost:8080/"
        },
        "id": "EFiUf4L5kaLC",
        "outputId": "94c59293-5602-45b3-98f1-210f94884beb"
      },
      "execution_count": 22,
      "outputs": [
        {
          "output_type": "stream",
          "name": "stdout",
          "text": [
            "(100, 200, 300)\n"
          ]
        }
      ]
    },
    {
      "cell_type": "code",
      "source": [
        "# 12 Write a code to access the second-to-last element of the tuple ('red', 'green', 'blue', 'yellow').\n",
        "my_tuple=('red','green','blue','yellow')\n",
        "print(my_tuple[-2])"
      ],
      "metadata": {
        "colab": {
          "base_uri": "https://localhost:8080/"
        },
        "id": "QVX8oxf-k4Zh",
        "outputId": "5e0ea110-2576-4c47-acd2-81b5de712ea7"
      },
      "execution_count": 24,
      "outputs": [
        {
          "output_type": "stream",
          "name": "stdout",
          "text": [
            "blue\n"
          ]
        }
      ]
    },
    {
      "cell_type": "code",
      "source": [
        "# 13  Write a code to find the minimum number in the tuple (10, 20, 5, 15).\n",
        "my_tuple=(10,20,5,15)\n",
        "min(my_tuple)\n"
      ],
      "metadata": {
        "colab": {
          "base_uri": "https://localhost:8080/"
        },
        "id": "2LDFS_FKlr8-",
        "outputId": "807ad4f6-4a2f-4570-e73d-a81b04905d9c"
      },
      "execution_count": 26,
      "outputs": [
        {
          "output_type": "execute_result",
          "data": {
            "text/plain": [
              "5"
            ]
          },
          "metadata": {},
          "execution_count": 26
        }
      ]
    },
    {
      "cell_type": "code",
      "source": [
        "# 14 Write a code to find the index of the element \"cat\" in the tuple ('dog', 'cat', 'rabbit')\n",
        "tuple1=('dog','cat','rabbit')\n",
        "tuple1.index('cat')"
      ],
      "metadata": {
        "colab": {
          "base_uri": "https://localhost:8080/"
        },
        "id": "hDggqhnNmUqB",
        "outputId": "7a21e512-73be-4d15-de0c-ca769e42bd79"
      },
      "execution_count": 27,
      "outputs": [
        {
          "output_type": "execute_result",
          "data": {
            "text/plain": [
              "1"
            ]
          },
          "metadata": {},
          "execution_count": 27
        }
      ]
    },
    {
      "cell_type": "code",
      "source": [
        "#15 Write a code to create a tuple containing three different fruits and check if \"kiwi\" is in it\n",
        "fruits=('apple','kiwi','orange')\n",
        "'kiwi'in fruits"
      ],
      "metadata": {
        "colab": {
          "base_uri": "https://localhost:8080/"
        },
        "id": "GyYuhtudm2fN",
        "outputId": "c8d49603-b90c-4a30-ce94-6d833d0f1d76"
      },
      "execution_count": 28,
      "outputs": [
        {
          "output_type": "execute_result",
          "data": {
            "text/plain": [
              "True"
            ]
          },
          "metadata": {},
          "execution_count": 28
        }
      ]
    },
    {
      "cell_type": "code",
      "source": [
        "#16 Write a code to create a set with the elements 'a', 'b', 'c' and print it\n",
        "set1={'a','b','c'}\n",
        "print(set1)"
      ],
      "metadata": {
        "colab": {
          "base_uri": "https://localhost:8080/"
        },
        "id": "KaikN4NpnuXO",
        "outputId": "8f8841dd-1384-4373-ae2c-962e48562341"
      },
      "execution_count": 29,
      "outputs": [
        {
          "output_type": "stream",
          "name": "stdout",
          "text": [
            "{'c', 'b', 'a'}\n"
          ]
        }
      ]
    },
    {
      "cell_type": "code",
      "source": [
        "# 17  Write a code to clear all elements from the set {1, 2, 3, 4, 5}.\n",
        "my_set = {1, 2, 3, 4, 5}\n",
        "my_set.clear()\n",
        "print(my_set)"
      ],
      "metadata": {
        "colab": {
          "base_uri": "https://localhost:8080/"
        },
        "id": "0cIQWBVFoT4r",
        "outputId": "0855ce37-b73d-4273-ac1d-1f0edeb8da20"
      },
      "execution_count": 33,
      "outputs": [
        {
          "output_type": "stream",
          "name": "stdout",
          "text": [
            "set()\n"
          ]
        }
      ]
    },
    {
      "cell_type": "code",
      "source": [
        "# 18 . Write a code to remove the element 4 from the set {1, 2, 3, 4}\n",
        "my_set={1,2,3,4}\n",
        "my_set.remove(4)\n",
        "print(my_set)"
      ],
      "metadata": {
        "colab": {
          "base_uri": "https://localhost:8080/"
        },
        "id": "PPbrhfJQpQoH",
        "outputId": "57409f74-0506-4cfa-c629-b0e8c572b7ae"
      },
      "execution_count": 34,
      "outputs": [
        {
          "output_type": "stream",
          "name": "stdout",
          "text": [
            "{1, 2, 3}\n"
          ]
        }
      ]
    },
    {
      "cell_type": "code",
      "source": [
        "#19  Write a code to find the union of two sets {1, 2, 3} and {3, 4, 5}\n",
        "set1={1,2,3}\n",
        "set2={3,4,5}\n",
        "set1.union(set2)"
      ],
      "metadata": {
        "colab": {
          "base_uri": "https://localhost:8080/"
        },
        "id": "Sgb7xig8p_iS",
        "outputId": "7ce7d514-1a40-42a9-993a-00d606ce4c14"
      },
      "execution_count": 35,
      "outputs": [
        {
          "output_type": "execute_result",
          "data": {
            "text/plain": [
              "{1, 2, 3, 4, 5}"
            ]
          },
          "metadata": {},
          "execution_count": 35
        }
      ]
    },
    {
      "cell_type": "code",
      "source": [
        "# 20  Write a code to find the intersection of two sets {1, 2, 3} and {2, 3, 4}\n",
        "set1={1,2,3}\n",
        "set2={2,3,4}\n",
        "set1.intersection(set2)"
      ],
      "metadata": {
        "colab": {
          "base_uri": "https://localhost:8080/"
        },
        "id": "WisMbXvoq52j",
        "outputId": "296cc65f-181e-4757-9788-138d0fc14428"
      },
      "execution_count": 36,
      "outputs": [
        {
          "output_type": "execute_result",
          "data": {
            "text/plain": [
              "{2, 3}"
            ]
          },
          "metadata": {},
          "execution_count": 36
        }
      ]
    },
    {
      "cell_type": "code",
      "source": [
        "# 21 Write a code to create a dictionary with the keys \"name\", \"age\", and \"city\", and print it.\n",
        "my_dict={\"name\": \"abin\",\"age\":\"25\",\"city\":\"kochi\"}\n",
        "print(my_dict)\n"
      ],
      "metadata": {
        "colab": {
          "base_uri": "https://localhost:8080/"
        },
        "id": "uyt5FlPirHYP",
        "outputId": "6aaf0a1a-cd3c-4867-ac90-12f2cad89144"
      },
      "execution_count": 38,
      "outputs": [
        {
          "output_type": "stream",
          "name": "stdout",
          "text": [
            "{'name': 'abin', 'age': '25', 'city': 'kochi'}\n"
          ]
        }
      ]
    },
    {
      "cell_type": "code",
      "source": [
        "# 22 Write a code to add a new key-value pair \"country\": \"USA\" to the dictionary {'name': 'John', 'age': 25}\n",
        "my_dict={'name': 'John', 'age': 25}\n",
        "my_dict['Country']=\"USA\"\n",
        "print(my_dict)"
      ],
      "metadata": {
        "colab": {
          "base_uri": "https://localhost:8080/"
        },
        "id": "zi9OYj-MsZq9",
        "outputId": "0cf34e0a-109a-4f1d-cf9c-45115fc05700"
      },
      "execution_count": 39,
      "outputs": [
        {
          "output_type": "stream",
          "name": "stdout",
          "text": [
            "{'name': 'John', 'age': 25, 'Country': 'USA'}\n"
          ]
        }
      ]
    },
    {
      "cell_type": "code",
      "source": [
        "# 23 Write a code to access the value associated with the key \"name\" in the dictionary {'name': 'Alice', 'age': 30}.\n",
        "my_dict={'name': 'Alice', 'age': 30}\n",
        "print(my_dict['name'])"
      ],
      "metadata": {
        "colab": {
          "base_uri": "https://localhost:8080/"
        },
        "id": "vwExUf5LtAZL",
        "outputId": "c2718179-e6fb-41cc-f8f1-7abb7c5b3540"
      },
      "execution_count": 40,
      "outputs": [
        {
          "output_type": "stream",
          "name": "stdout",
          "text": [
            "Alice\n"
          ]
        }
      ]
    },
    {
      "cell_type": "code",
      "source": [
        "# 24  Write a code to remove the key \"age\" from the dictionary {'name': 'Bob', 'age': 22, 'city': 'New York'}.\n",
        "my_dict={'name': 'Bob', 'age': 22, 'city': 'New York'}\n",
        "del my_dict['age']\n",
        "print(my_dict)\n"
      ],
      "metadata": {
        "colab": {
          "base_uri": "https://localhost:8080/"
        },
        "id": "grWLP1vatc96",
        "outputId": "f87194eb-d796-40e7-cf68-7edce3520494"
      },
      "execution_count": 41,
      "outputs": [
        {
          "output_type": "stream",
          "name": "stdout",
          "text": [
            "{'name': 'Bob', 'city': 'New York'}\n"
          ]
        }
      ]
    },
    {
      "cell_type": "code",
      "source": [
        "# 25 Write a code to check if the key \"city\" exists in the dictionary {'name': 'Alice', 'city': 'Paris'}.\n",
        "dict1 = {'name': 'Alice', 'city': 'Paris'}\n",
        "if 'city' in dict1:\n",
        "    print(\"The key 'city' exists in the dictionary.\")\n",
        "else:\n",
        "    print(\"The key 'city' does not exist in the dictionary.\")\n"
      ],
      "metadata": {
        "colab": {
          "base_uri": "https://localhost:8080/"
        },
        "id": "__GFm0cLtxTR",
        "outputId": "0c6545e9-ce74-4ecf-ce13-3dd407e3e735"
      },
      "execution_count": 42,
      "outputs": [
        {
          "output_type": "stream",
          "name": "stdout",
          "text": [
            "The key 'city' exists in the dictionary.\n"
          ]
        }
      ]
    },
    {
      "cell_type": "code",
      "source": [
        "# 26 Write a code to create a list, a tuple, and a dictionary, and print them all.\n",
        "my_list = [1, 2, 3]\n",
        "my_tuple = (\"apple\", \"banana\", \"cherry\")\n",
        "my_dict = {\"name\": \"Bob\", \"city\": \"New York\"}\n",
        "\n",
        "print(\"List:\", my_list)\n",
        "print(\"Tuple:\", my_tuple)\n",
        "print(\"Dictionary:\", my_dict)\n"
      ],
      "metadata": {
        "colab": {
          "base_uri": "https://localhost:8080/"
        },
        "id": "M6RqTl28ud3h",
        "outputId": "5aa2e26f-a675-494a-86af-d5adc06c7215"
      },
      "execution_count": 44,
      "outputs": [
        {
          "output_type": "stream",
          "name": "stdout",
          "text": [
            "List: [1, 2, 3]\n",
            "Tuple: ('apple', 'banana', 'cherry')\n",
            "Dictionary: {'name': 'Bob', 'city': 'New York'}\n"
          ]
        }
      ]
    },
    {
      "source": [
        "#27 Write a code to create a list of 5 random numbers between 1 and 100, sort it in ascending order, and print the\n",
        "#result.(replaced)\n",
        "\n",
        "import random\n",
        "random_numbers = random.sample(range(1, 101), 5)\n",
        "random_numbers.sort()\n",
        "print(\"Sorted list (Method 4 - Unique numbers):\")\n",
        "print(random_numbers)"
      ],
      "cell_type": "code",
      "metadata": {
        "colab": {
          "base_uri": "https://localhost:8080/"
        },
        "id": "oyWYWMgzvHwZ",
        "outputId": "71bc447f-9684-481e-edc6-a46a3b4803ed"
      },
      "execution_count": 2,
      "outputs": [
        {
          "output_type": "stream",
          "name": "stdout",
          "text": [
            "Sorted list (Method 4 - Unique numbers):\n",
            "[16, 50, 59, 69, 71]\n"
          ]
        }
      ]
    },
    {
      "cell_type": "code",
      "source": [
        "# 28  Write a code to create a list with strings and print the element at the third index.\n",
        "my_list = [\"apple\",\"bat\",\"cat\",\"dog\"]\n",
        "print(my_list[3])"
      ],
      "metadata": {
        "colab": {
          "base_uri": "https://localhost:8080/"
        },
        "id": "ia7aNXmV7U1K",
        "outputId": "2eeb2cb1-afbb-4842-97bd-f58396870f79"
      },
      "execution_count": 4,
      "outputs": [
        {
          "output_type": "stream",
          "name": "stdout",
          "text": [
            "dog\n"
          ]
        }
      ]
    },
    {
      "cell_type": "code",
      "source": [
        "#29 Write a code to combine two dictionaries into one and print the result.\n",
        "\n"
      ],
      "metadata": {
        "id": "axA0SPhS7gdP"
      },
      "execution_count": null,
      "outputs": []
    },
    {
      "cell_type": "code",
      "source": [
        "# 30 Write a code to convert a list of strings into a set\n",
        "my_list = [\"apple\",\"bat\",\"cat\"]\n",
        "my_set = set(my_list)\n",
        "print(my_set)"
      ],
      "metadata": {
        "colab": {
          "base_uri": "https://localhost:8080/"
        },
        "id": "_1tughXu79XU",
        "outputId": "709f4d1e-246b-4d49-ea93-ed5c58d93daf"
      },
      "execution_count": 5,
      "outputs": [
        {
          "output_type": "stream",
          "name": "stdout",
          "text": [
            "{'cat', 'bat', 'apple'}\n"
          ]
        }
      ]
    }
  ]
}